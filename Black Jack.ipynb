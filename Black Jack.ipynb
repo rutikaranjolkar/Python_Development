{
 "cells": [
  {
   "cell_type": "markdown",
   "metadata": {},
   "source": [
    "# Blackjack"
   ]
  },
  {
   "cell_type": "code",
   "execution_count": 113,
   "metadata": {
    "collapsed": true
   },
   "outputs": [],
   "source": [
    "class Player(object):\n",
    "   \n",
    "    def __init__(self,name):\n",
    "        self.name=name\n",
    "    \n",
    "    def play(self,object):\n",
    "        \n",
    "        object.draw_card()\n"
   ]
  },
  {
   "cell_type": "code",
   "execution_count": 114,
   "metadata": {},
   "outputs": [],
   "source": [
    "import random\n",
    "class Card(object):\n",
    "    \n",
    "    deck_52_cards =[]\n",
    "    dealt_cards=[]\n",
    "    non_dealt_cards = []\n",
    "    running_card_value = 0\n",
    "    suit ={'H','S','D','C'}\n",
    "    rank ={'A','2','3','4','5','6','7','8','9','10','J','Q','K'}\n",
    "    hand = {'A':1 ,'2':2,'3': 3,'4':4,'5':5,'6':6,'7':7,'8':8,'9':9,'10':10,'J':11,'Q':12,'K':13}\n",
    "        \n",
    "    def __init__(self):\n",
    "        for s in self.suit:\n",
    "            for r in self.rank:\n",
    "                self.deck_52_cards.append((s,r))\n",
    "                \n",
    "    def print_deck(self):\n",
    "        for card in self.deck_52_cards:\n",
    "            print(card)\n",
    "            \n",
    "    def shuffle_deck(self):\n",
    "        random.shuffle(self.deck_52_cards)\n",
    "        print(\"Shuffling cards\")\n",
    "    \n",
    "    def val_exceeds_21(self):\n",
    "        if self.running_card_value > 21:\n",
    "            print(\"Sorry! Card values exceeded 21. You Lose!\")\n",
    "            return True\n",
    "        else:\n",
    "            return False\n",
    "        \n",
    "    def draw_card(self):\n",
    "        global deck_52_cards\n",
    "        global dealt_cards\n",
    "        global non_dealt_cards\n",
    "        global running_card_value\n",
    "        \n",
    "        chosen_card = self.deck_52_cards.pop()\n",
    "        self.dealt_cards.append(chosen_card)\n",
    "        self.non_dealt_cards = self.deck_52_cards\n",
    "        print(chosen_card)\n",
    "       \n",
    "        val = chosen_card[1]\n",
    "       \n",
    "        for k,v in self.hand.items():\n",
    "            if k == val:\n",
    "                print(\"val\",v)\n",
    "                self.running_card_value += v\n",
    "                print(\"running_card_value: \",self.running_card_value)\n",
    "        \n",
    "        self.val_exceeds_21()\n",
    "                \n",
    "    "
   ]
  },
  {
   "cell_type": "code",
   "execution_count": 124,
   "metadata": {},
   "outputs": [],
   "source": [
    "class Start_playing(object):\n",
    "  \n",
    "    def __init__(self):\n",
    "        quit = False\n",
    "        p = Player(\"Rutika\")\n",
    "        c = Card()\n",
    "        c.shuffle_deck()\n",
    "        first_q = True\n",
    "        while not quit:\n",
    "            if c.val_exceeds_21() == False:\n",
    "                if first_q == False:\n",
    "                    ans = input(\"Would you like to draw another card? Y/N\")\n",
    "                    answer = ans.upper()\n",
    "                    if answer == 'Y':\n",
    "                        #print(\"Playing\")\n",
    "                        p.play(c)\n",
    "                    else:\n",
    "                        if c.running_card_value < 21:\n",
    "                            print(\"Congratulations! You won by {x} points!! \".format(x =21-c.running_card_value))\n",
    "                            print(\"Quitting\")\n",
    "                            quit = True\n",
    "                            break\n",
    "                else:      \n",
    "                    print(\"Welcome to Black Jack. Let's draw a card\")\n",
    "                    p.play(c)\n",
    "                    first_q = False\n",
    "            else:\n",
    "                quit == True\n",
    "                break\n",
    "                 "
   ]
  },
  {
   "cell_type": "code",
   "execution_count": 125,
   "metadata": {},
   "outputs": [
    {
     "name": "stdout",
     "output_type": "stream",
     "text": [
      "Shuffling cards\n",
      "Welcome to Black Jack. Let's draw a card\n",
      "('C', '4')\n",
      "val 4\n",
      "running_card_value:  4\n",
      "Would you like to draw another card? Y/Nn\n",
      "Congratulations! You won by 17 points!! \n",
      "Quitting\n"
     ]
    }
   ],
   "source": [
    "s= Start_playing()"
   ]
  },
  {
   "cell_type": "code",
   "execution_count": 93,
   "metadata": {
    "collapsed": true
   },
   "outputs": [],
   "source": []
  },
  {
   "cell_type": "code",
   "execution_count": 94,
   "metadata": {},
   "outputs": [],
   "source": []
  },
  {
   "cell_type": "code",
   "execution_count": null,
   "metadata": {},
   "outputs": [],
   "source": []
  },
  {
   "cell_type": "code",
   "execution_count": null,
   "metadata": {
    "collapsed": true
   },
   "outputs": [],
   "source": []
  },
  {
   "cell_type": "code",
   "execution_count": null,
   "metadata": {
    "collapsed": true
   },
   "outputs": [],
   "source": []
  },
  {
   "cell_type": "code",
   "execution_count": null,
   "metadata": {
    "collapsed": true
   },
   "outputs": [],
   "source": []
  },
  {
   "cell_type": "code",
   "execution_count": null,
   "metadata": {
    "collapsed": true
   },
   "outputs": [],
   "source": []
  },
  {
   "cell_type": "code",
   "execution_count": null,
   "metadata": {
    "collapsed": true
   },
   "outputs": [],
   "source": []
  },
  {
   "cell_type": "code",
   "execution_count": null,
   "metadata": {
    "collapsed": true
   },
   "outputs": [],
   "source": []
  },
  {
   "cell_type": "code",
   "execution_count": null,
   "metadata": {
    "collapsed": true
   },
   "outputs": [],
   "source": []
  },
  {
   "cell_type": "code",
   "execution_count": null,
   "metadata": {
    "collapsed": true
   },
   "outputs": [],
   "source": []
  }
 ],
 "metadata": {
  "kernelspec": {
   "display_name": "Python 3",
   "language": "python",
   "name": "python3"
  },
  "language_info": {
   "codemirror_mode": {
    "name": "ipython",
    "version": 3
   },
   "file_extension": ".py",
   "mimetype": "text/x-python",
   "name": "python",
   "nbconvert_exporter": "python",
   "pygments_lexer": "ipython3",
   "version": "3.6.1"
  }
 },
 "nbformat": 4,
 "nbformat_minor": 2
}
